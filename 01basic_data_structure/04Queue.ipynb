{
 "cells": [
  {
   "cell_type": "markdown",
   "metadata": {
    "collapsed": true
   },
   "source": [
    "# Queue: FIFO\n",
    "In python, Queue and Stack are both realized by List. List in python is a dynamic array.\n",
    "- use append() to insert item at the end of List.\n",
    "- use pop() to popup the last item. [realize Stack FILO]\n",
    "- use pop(0) to popup the first item. [Queue FIFO]"
   ]
  },
  {
   "cell_type": "code",
   "execution_count": 1,
   "metadata": {},
   "outputs": [
    {
     "name": "stdout",
     "output_type": "stream",
     "text": [
      "0\n[1, 2, 3, 4, 5, 6]\nlast item 6\n[1, 2, 3, 4, 5]\nfirst item 1\n[2, 3, 4, 5]\n3\n"
     ]
    }
   ],
   "source": [
    "queue = list()\n",
    "print(len(queue))\n",
    "\n",
    "queue = [1, 2, 3, 4, 5]\n",
    "queue.append(6)\n",
    "print(queue)\n",
    "\n",
    "last_item = queue.pop()\n",
    "print('last item', last_item)\n",
    "print(queue)\n",
    "\n",
    "first_item = queue.pop(0)\n",
    "print('first item', first_item)\n",
    "print(queue)\n",
    "\n",
    "index_item = queue.pop(1)  # queue.pop(index) popup any index item in the queue\n",
    "print(index_item)"
   ]
  },
  {
   "cell_type": "markdown",
   "metadata": {},
   "source": [
    ""
   ]
  },
  {
   "cell_type": "markdown",
   "metadata": {},
   "source": [
    "# Priority Queue\n",
    "In python, it has **heapq lib** for priority queue\n",
    "\n",
    "heapq.push(queue, e)  -  enqueue\n",
    "\n",
    "heapq.pop(queue) - dequeue\n",
    "\n",
    "heapq.heapify(queue) - init"
   ]
  },
  {
   "cell_type": "markdown",
   "metadata": {},
   "source": [
    "# double-ended queue\n",
    "Python's list can realize the same functions as *deque* [double-ended queue]\n",
    "\n",
    "But it is not efficient. It offers a more efficient lib in collections. [collections.deque]\n",
    "\n",
    "dq.appendleft(e) - enqueue left\n",
    "\n",
    "dq.append(e) - enqueue right\n",
    "\n",
    "dq.popleft() - dequeue left\n",
    "\n",
    "dq.pop()- dequeue right\n"
   ]
  }
 ],
 "metadata": {
  "kernelspec": {
   "display_name": "Python 2",
   "language": "python",
   "name": "python2"
  },
  "language_info": {
   "codemirror_mode": {
    "name": "ipython",
    "version": 2.0
   },
   "file_extension": ".py",
   "mimetype": "text/x-python",
   "name": "python",
   "nbconvert_exporter": "python",
   "pygments_lexer": "ipython2",
   "version": "2.7.6"
  }
 },
 "nbformat": 4,
 "nbformat_minor": 0
}