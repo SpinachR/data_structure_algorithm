{
 "cells": [
  {
   "cell_type": "markdown",
   "metadata": {
    "collapsed": true
   },
   "source": [
    "# stack - FIFO\n",
    "In python, we can realize stack easily by list. (Like the queue or deque[double-end queue])\n",
    "\n",
    "Method:\n",
    "- len(stack) != 0 - 判断stack是否为空\n",
    "- stack[-1] - 取栈顶元素，不移除\n",
    "- pop() - 移除栈顶元素并返回该元素 （pop操作会移除index元素，默认index=-1 即是最后一个元素）\n",
    "- append(item) - 向栈顶添加元素\n",
    "\n",
    "Note: if we want to append item at the left side, we'd better use deque.appendleft()"
   ]
  },
  {
   "cell_type": "code",
   "execution_count": 1,
   "metadata": {},
   "outputs": [
    {
     "name": "stdout",
     "output_type": "stream",
     "text": [
      "5\n2\n[1, 3, 4, 5, 6]\n"
     ]
    }
   ],
   "source": [
    "stack = [1, 2, 3, 4, 5]\n",
    "print(len(stack))  # 5\n",
    "\n",
    "print(stack.pop(1))  # 2\n",
    "\n",
    "stack.append(6)\n",
    "print(stack)  # 2 has been removed [1,3,4,5,6]"
   ]
  },
  {
   "cell_type": "markdown",
   "metadata": {},
   "source": [
    "# set - without repeated items\n",
    "In python, set and dict have similar implementation. We can regard 'set' as 'dict' only with key (without value)"
   ]
  },
  {
   "cell_type": "code",
   "execution_count": 5,
   "metadata": {},
   "outputs": [
    {
     "name": "stdout",
     "output_type": "stream",
     "text": [
      "set()\n{1, 2, 3}\n"
     ]
    }
   ],
   "source": [
    "s1 = set()\n",
    "s2 = {1, 2, 3}   # use {...} to initialize\n",
    "print(s1)\n",
    "print(s2)"
   ]
  },
  {
   "cell_type": "markdown",
   "metadata": {},
   "source": [
    "# Map - Dict<key, value>\n",
    "\n",
    "map1 = {}  # or dict()\n",
    "\n",
    "map2 = {x: 1, y: 2}\n"
   ]
  },
  {
   "cell_type": "code",
   "execution_count": 8,
   "metadata": {},
   "outputs": [
    {
     "name": "stdout",
     "output_type": "stream",
     "text": [
      "True\nFalse\n3\n3\ndict_keys(['x', 'z'])\ndict_values([98, 100])\ndict_items([('x', 98), ('z', 100)])\nx 98\nz 100\n"
     ]
    }
   ],
   "source": [
    "# map 在 python 中是一个keyword\n",
    "hash_map = {} # or dict()\n",
    "hash_map['x'] = 98\n",
    "hash_map['y'] = 99\n",
    "hash_map['z'] = 100\n",
    "\n",
    "exist_key = 'x' in hash_map  # check key existence\n",
    "print(exist_key)  # True\n",
    "\n",
    "exist_value = 98 in hash_map  # can't check value existence\n",
    "print(exist_value)   # False\n",
    "\n",
    "print(hash_map.__len__())  # 3\n",
    "print(len(hash_map))  # 3\n",
    "\n",
    "point = hash_map['x']  # get value by key\n",
    "point = hash_map.pop('y')  # remove by key, return value\n",
    "\n",
    "keys = hash_map.keys()  # return key list\n",
    "print(keys)  # ['x', 'z']  'y' has been popped out\n",
    "\n",
    "values = hash_map.values()\n",
    "print(values)\n",
    "\n",
    "print(hash_map.items())   # return a tuple list. Each item in the list is a tuple\n",
    "# iterate dictionary(map)\n",
    "for key, value in hash_map.items():\n",
    "    print(key, value)"
   ]
  }
 ],
 "metadata": {
  "kernelspec": {
   "display_name": "Python 2",
   "language": "python",
   "name": "python2"
  },
  "language_info": {
   "codemirror_mode": {
    "name": "ipython",
    "version": 2.0
   },
   "file_extension": ".py",
   "mimetype": "text/x-python",
   "name": "python",
   "nbconvert_exporter": "python",
   "pygments_lexer": "ipython2",
   "version": "2.7.6"
  }
 },
 "nbformat": 4,
 "nbformat_minor": 0
}