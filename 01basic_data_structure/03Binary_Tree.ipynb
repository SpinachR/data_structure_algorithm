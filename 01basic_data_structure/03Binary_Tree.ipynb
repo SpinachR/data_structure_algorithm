{
 "cells": [
  {
   "cell_type": "code",
   "execution_count": 1,
   "metadata": {
    "collapsed": true
   },
   "outputs": [],
   "source": [
    "# realize Binary Tree\n",
    "class TreeNode:\n",
    "    def __init__(self, val):\n",
    "        self.val = val\n",
    "        self.left, self.right = None, None"
   ]
  },
  {
   "cell_type": "markdown",
   "metadata": {},
   "source": [
    "# Traversing binary tree\n",
    "- depth first [like stack]\n",
    "\t- preOrder: root -> left -> right\n",
    "\t- inOrder: left -> root -> right\n",
    "\t- postOrder: left -> right -> root\n",
    "- breath first [like queue]\n",
    "\n",
    "Using inOrder and [preOrder or postOrder], we can determine the tree's structure. The key point is that \n",
    "the first element must be the root in preOrder | the last element must be the root in postOrder"
   ]
  },
  {
   "cell_type": "code",
   "execution_count": null,
   "metadata": {},
   "outputs": [],
   "source": [
    "class Traversal(object):\n",
    "    def __index__(self):\n",
    "        self.traverse_path = list()\n",
    "        \n",
    "    def preorder(self, root):\n",
    "        if root:\n",
    "            self.traverse_path.append(root.val)\n",
    "            self.preorder(root.left)\n",
    "            self.preorder(root.right)\n",
    "            \n",
    "    def inorder(self, root):\n",
    "        if root:\n",
    "            self.inorder(root.left)\n",
    "            self.traverse_path.append(root.val)\n",
    "            self.inorder(root.right)\n",
    "\n",
    "    def postorder(self, root):\n",
    "        if root:\n",
    "            self.postorder(root.left)\n",
    "            self.postorder(root.right)\n",
    "            self.traverse_path.append(root.val)"
   ]
  }
 ],
 "metadata": {
  "kernelspec": {
   "display_name": "Python 2",
   "language": "python",
   "name": "python2"
  },
  "language_info": {
   "codemirror_mode": {
    "name": "ipython",
    "version": 2.0
   },
   "file_extension": ".py",
   "mimetype": "text/x-python",
   "name": "python",
   "nbconvert_exporter": "python",
   "pygments_lexer": "ipython2",
   "version": "2.7.6"
  }
 },
 "nbformat": 4,
 "nbformat_minor": 0
}