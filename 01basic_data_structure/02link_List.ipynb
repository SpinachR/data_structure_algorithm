{
 "cells": [
  {
   "cell_type": "markdown",
   "metadata": {
    "collapsed": true
   },
   "source": [
    "# Link List: linear list\n",
    "All the element in Link List are connected one-by-one, except for the first and the last one. It has two storage format. Sequential Order and Linked Order.\n",
    "\n",
    "ArrayList is Sequential Order. Linked Order has a pointer in each element, which points to next element."
   ]
  },
  {
   "cell_type": "code",
   "execution_count": 3,
   "metadata": {},
   "outputs": [],
   "source": [
    "# realize Link List\n",
    "class ListNode:\n",
    "    def __index__(self, val):\n",
    "        self.val = val\n",
    "        self.next = None\n",
    "        \n",
    "    # reverse the Linked List\n",
    "    # 1 -> 2 -> 3 -> null   to    3 -> 2 -> 1 -> null\n",
    "    # and change the pointer of first node (in original list) to NULL\n",
    "    # after reverse func. it returns a reversed Link List\n",
    "    def reverse(self, head):\n",
    "        prev = None\n",
    "        while head:\n",
    "            nex = head.next\n",
    "            head.next = prev\n",
    "            prev = head\n",
    "            head = nex\n",
    "        return prev"
   ]
  },
  {
   "cell_type": "code",
   "execution_count": 4,
   "metadata": {},
   "outputs": [],
   "source": [
    "# realize Double Link List\n",
    "class DListNode:\n",
    "    def __index__(self, val):\n",
    "        self.val = val\n",
    "        self.prev = self.next = null\n",
    "    \n",
    "    def reverse(self, head):\n",
    "        current = None\n",
    "        while head:\n",
    "            current = head\n",
    "            head = current.next\n",
    "            current.next = current.prev\n",
    "            current.prev = head"
   ]
  }
 ],
 "metadata": {
  "kernelspec": {
   "display_name": "Python 2",
   "language": "python",
   "name": "python2"
  },
  "language_info": {
   "codemirror_mode": {
    "name": "ipython",
    "version": 2.0
   },
   "file_extension": ".py",
   "mimetype": "text/x-python",
   "name": "python",
   "nbconvert_exporter": "python",
   "pygments_lexer": "ipython2",
   "version": "2.7.6"
  }
 },
 "nbformat": 4,
 "nbformat_minor": 0
}